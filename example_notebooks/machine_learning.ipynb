{
 "cells": [
  {
   "cell_type": "markdown",
   "id": "aeb4eaf1-fb32-4265-a36c-6d0c8b137afd",
   "metadata": {},
   "source": [
    "# GlyTrait for Machine Learning"
   ]
  },
  {
   "cell_type": "markdown",
   "id": "7c16b9c4-0c64-4432-b438-b3fff290825d",
   "metadata": {},
   "source": [
    "From a data science point of view, derived trait calculation could be regarded as \n",
    "a feature engineering step in a machine learning pipeline.\n",
    "Specifically, we convert the original glycan abundance dimension into the new derived trait dimension.\n",
    "As derived traits are more biologically interpretable,\n",
    "we could use derived traits instead of glycan abundance for modeling.\n",
    "By leveraging model expaination or interpretation techniques,\n",
    "the models could also be scrutinized for more insights."
   ]
  },
  {
   "cell_type": "markdown",
   "id": "901b4dc8-2d50-483e-a628-253f6c5a59d6",
   "metadata": {},
   "source": [
    "Here we demonstrate how to use GlyTrait to calculate derived traits for machine learning.\n",
    "We use the dataset in glycoPOST (https://glycopost.glycosmos.org/entry/GPST000313).\n",
    "For simplicity, we only calculate several derived traits here."
   ]
  },
  {
   "cell_type": "code",
   "execution_count": 1,
   "id": "9f68f478-3aa9-4fb6-9728-d024b1f0faee",
   "metadata": {},
   "outputs": [],
   "source": [
    "#!conda install -c conda-forge scikit-learn shap"
   ]
  },
  {
   "cell_type": "markdown",
   "id": "49a0e25f-73b2-4e12-b073-6ebd8abe0dd4",
   "metadata": {},
   "source": [
    "## Derived trait calculation"
   ]
  },
  {
   "cell_type": "code",
   "execution_count": 2,
   "id": "9c058b9b-fa82-4a5c-8d80-875cc817f8f2",
   "metadata": {},
   "outputs": [],
   "source": [
    "import pandas as pd\n",
    "from glytrait import Experiment"
   ]
  },
  {
   "cell_type": "code",
   "execution_count": 3,
   "id": "c144e378-088d-4196-a600-2645219ef864",
   "metadata": {},
   "outputs": [],
   "source": [
    "# If you run this notebook in your environment, you might need to modify the file paths below.\n",
    "exp = Experiment(\n",
    "    abundance_file=\"../example_data/abundance.csv\",\n",
    "    glycan_file=\"../example_data/structures.csv\",\n",
    "    sia_linkage=True,  # Set to True here to enable sialic acid linkage traits\n",
    ")"
   ]
  },
  {
   "cell_type": "code",
   "execution_count": 4,
   "id": "7f963cfd-c323-451f-94f3-d327f0c092be",
   "metadata": {},
   "outputs": [],
   "source": [
    "exp.preprocess()  # Calling the step method instead of `run_workflow`"
   ]
  },
  {
   "cell_type": "markdown",
   "id": "3cae9ffa-711b-45f3-9dcb-af8e69fb45cd",
   "metadata": {},
   "source": [
    "Here we use the `try_formulas` method to get derived trait table directly.\n",
    "This method is handy for trying new formula expressions,\n",
    "or to get a fast insight of the data."
   ]
  },
  {
   "cell_type": "code",
   "execution_count": 5,
   "id": "c5ba01da-1426-4b00-9a09-85119d19e6d5",
   "metadata": {},
   "outputs": [
    {
     "data": {
      "text/html": [
       "<div>\n",
       "<style scoped>\n",
       "    .dataframe tbody tr th:only-of-type {\n",
       "        vertical-align: middle;\n",
       "    }\n",
       "\n",
       "    .dataframe tbody tr th {\n",
       "        vertical-align: top;\n",
       "    }\n",
       "\n",
       "    .dataframe thead th {\n",
       "        text-align: right;\n",
       "    }\n",
       "</style>\n",
       "<table border=\"1\" class=\"dataframe\">\n",
       "  <thead>\n",
       "    <tr style=\"text-align: right;\">\n",
       "      <th></th>\n",
       "      <th>TM</th>\n",
       "      <th>THy</th>\n",
       "      <th>CA1</th>\n",
       "      <th>CA2</th>\n",
       "      <th>CA3</th>\n",
       "      <th>CA4</th>\n",
       "      <th>TS</th>\n",
       "      <th>TE</th>\n",
       "      <th>TL</th>\n",
       "      <th>TFc</th>\n",
       "      <th>TFa</th>\n",
       "      <th>TB</th>\n",
       "      <th>SG</th>\n",
       "      <th>EG</th>\n",
       "      <th>LG</th>\n",
       "    </tr>\n",
       "    <tr>\n",
       "      <th>Sample</th>\n",
       "      <th></th>\n",
       "      <th></th>\n",
       "      <th></th>\n",
       "      <th></th>\n",
       "      <th></th>\n",
       "      <th></th>\n",
       "      <th></th>\n",
       "      <th></th>\n",
       "      <th></th>\n",
       "      <th></th>\n",
       "      <th></th>\n",
       "      <th></th>\n",
       "      <th></th>\n",
       "      <th></th>\n",
       "      <th></th>\n",
       "    </tr>\n",
       "  </thead>\n",
       "  <tbody>\n",
       "    <tr>\n",
       "      <th>S001</th>\n",
       "      <td>0.008032</td>\n",
       "      <td>0.006020</td>\n",
       "      <td>0.011935</td>\n",
       "      <td>0.824623</td>\n",
       "      <td>0.146597</td>\n",
       "      <td>0.016845</td>\n",
       "      <td>0.859404</td>\n",
       "      <td>0.849752</td>\n",
       "      <td>0.188935</td>\n",
       "      <td>0.342337</td>\n",
       "      <td>0.004314</td>\n",
       "      <td>0.046414</td>\n",
       "      <td>0.823177</td>\n",
       "      <td>0.734037</td>\n",
       "      <td>0.089139</td>\n",
       "    </tr>\n",
       "    <tr>\n",
       "      <th>S030</th>\n",
       "      <td>0.008745</td>\n",
       "      <td>0.003318</td>\n",
       "      <td>0.009399</td>\n",
       "      <td>0.668274</td>\n",
       "      <td>0.287619</td>\n",
       "      <td>0.034708</td>\n",
       "      <td>0.954978</td>\n",
       "      <td>0.948910</td>\n",
       "      <td>0.239489</td>\n",
       "      <td>0.171842</td>\n",
       "      <td>0.001653</td>\n",
       "      <td>0.034071</td>\n",
       "      <td>0.848082</td>\n",
       "      <td>0.745628</td>\n",
       "      <td>0.102454</td>\n",
       "    </tr>\n",
       "    <tr>\n",
       "      <th>S020</th>\n",
       "      <td>0.010453</td>\n",
       "      <td>0.006647</td>\n",
       "      <td>0.011980</td>\n",
       "      <td>0.803622</td>\n",
       "      <td>0.168459</td>\n",
       "      <td>0.015939</td>\n",
       "      <td>0.670194</td>\n",
       "      <td>0.659377</td>\n",
       "      <td>0.182995</td>\n",
       "      <td>0.453135</td>\n",
       "      <td>0.003686</td>\n",
       "      <td>0.077649</td>\n",
       "      <td>0.710516</td>\n",
       "      <td>0.609692</td>\n",
       "      <td>0.100824</td>\n",
       "    </tr>\n",
       "    <tr>\n",
       "      <th>S038</th>\n",
       "      <td>0.004888</td>\n",
       "      <td>0.004867</td>\n",
       "      <td>0.009449</td>\n",
       "      <td>0.779131</td>\n",
       "      <td>0.195171</td>\n",
       "      <td>0.016248</td>\n",
       "      <td>0.947958</td>\n",
       "      <td>0.940003</td>\n",
       "      <td>0.242882</td>\n",
       "      <td>0.132130</td>\n",
       "      <td>0.001362</td>\n",
       "      <td>0.017533</td>\n",
       "      <td>0.892381</td>\n",
       "      <td>0.787248</td>\n",
       "      <td>0.105133</td>\n",
       "    </tr>\n",
       "    <tr>\n",
       "      <th>A003</th>\n",
       "      <td>0.009935</td>\n",
       "      <td>0.003908</td>\n",
       "      <td>0.010265</td>\n",
       "      <td>0.834835</td>\n",
       "      <td>0.143568</td>\n",
       "      <td>0.011332</td>\n",
       "      <td>0.843867</td>\n",
       "      <td>0.836564</td>\n",
       "      <td>0.139167</td>\n",
       "      <td>0.293333</td>\n",
       "      <td>0.001439</td>\n",
       "      <td>0.050608</td>\n",
       "      <td>0.809640</td>\n",
       "      <td>0.747022</td>\n",
       "      <td>0.062619</td>\n",
       "    </tr>\n",
       "  </tbody>\n",
       "</table>\n",
       "</div>"
      ],
      "text/plain": [
       "              TM       THy       CA1       CA2       CA3       CA4        TS  \\\n",
       "Sample                                                                         \n",
       "S001    0.008032  0.006020  0.011935  0.824623  0.146597  0.016845  0.859404   \n",
       "S030    0.008745  0.003318  0.009399  0.668274  0.287619  0.034708  0.954978   \n",
       "S020    0.010453  0.006647  0.011980  0.803622  0.168459  0.015939  0.670194   \n",
       "S038    0.004888  0.004867  0.009449  0.779131  0.195171  0.016248  0.947958   \n",
       "A003    0.009935  0.003908  0.010265  0.834835  0.143568  0.011332  0.843867   \n",
       "\n",
       "              TE        TL       TFc       TFa        TB        SG        EG  \\\n",
       "Sample                                                                         \n",
       "S001    0.849752  0.188935  0.342337  0.004314  0.046414  0.823177  0.734037   \n",
       "S030    0.948910  0.239489  0.171842  0.001653  0.034071  0.848082  0.745628   \n",
       "S020    0.659377  0.182995  0.453135  0.003686  0.077649  0.710516  0.609692   \n",
       "S038    0.940003  0.242882  0.132130  0.001362  0.017533  0.892381  0.787248   \n",
       "A003    0.836564  0.139167  0.293333  0.001439  0.050608  0.809640  0.747022   \n",
       "\n",
       "              LG  \n",
       "Sample            \n",
       "S001    0.089139  \n",
       "S030    0.102454  \n",
       "S020    0.100824  \n",
       "S038    0.105133  \n",
       "A003    0.062619  "
      ]
     },
     "execution_count": 5,
     "metadata": {},
     "output_type": "execute_result"
    }
   ],
   "source": [
    "formula_exprs = [\n",
    "    # TM: proportion of high-mannose glycans\n",
    "    \"TM = [type == 'high_mannose'] / [1]\",\n",
    "    # THy: proportion of hybrid glycans\n",
    "    \"THy = [type == 'hybrid'] / [1]\",\n",
    "    # CA1 - CA4: proportion of mono-, bi-, tri-, and tetra-antennary glycans within complex ones\n",
    "    \"CA1 = [nAnt == 1] // [type == 'complex']\",\n",
    "    \"CA2 = [nAnt == 2] // [type == 'complex']\",\n",
    "    \"CA3 = [nAnt == 3] // [type == 'complex']\",\n",
    "    \"CA4 = [nAnt == 4] // [type == 'complex']\",\n",
    "    # TS, TE, TL: propotion of sialylated, a2,6-linked sialylated, and a2,3-linked sialylated glycans\n",
    "    \"TS = [nS > 0] / [1]\",\n",
    "    \"TE = [nE > 0] / [1]\",\n",
    "    \"TL = [nL > 0] / [1]\",\n",
    "    # TFc, TFa: proportion of core-, and antenna-fucosylated glycans\n",
    "    \"TFc = [nFc > 0] / [1]\",\n",
    "    \"TFa = [nFa > 0] / [1]\",\n",
    "    # TB: proportion of bisecting glycans\n",
    "    \"TB = [B] / [1]\",\n",
    "    # SG, EG, LG: average number of sialic acids, a2,6-linked SAs, and a2,3-linked SAs per galactose\n",
    "    \"SG = [nS / nG] // [nG > 0]\",\n",
    "    \"EG = [nE / nG] // [nG > 0]\",\n",
    "    \"LG = [nL / nG] // [nG > 0]\",\n",
    "]\n",
    "derived_traits = exp.try_formulas(formula_exprs)\n",
    "derived_traits.head()"
   ]
  },
  {
   "cell_type": "markdown",
   "id": "3cadda1c-f315-4e97-8aed-1c314103a8e8",
   "metadata": {},
   "source": [
    "## Prepare data for ML"
   ]
  },
  {
   "cell_type": "code",
   "execution_count": 6,
   "id": "d2b5ee34-b971-4e4b-b063-d3d118ee9888",
   "metadata": {},
   "outputs": [
    {
     "data": {
      "text/plain": [
       "array(['Visceral Leishmaniasis', 'Asymptomatic',\n",
       "       'Healthy from Endemic area'], dtype=object)"
      ]
     },
     "execution_count": 6,
     "metadata": {},
     "output_type": "execute_result"
    }
   ],
   "source": [
    "groups = pd.read_csv(\"../example_data/groups.csv\", index_col=0).squeeze()\n",
    "groups.unique()"
   ]
  },
  {
   "cell_type": "code",
   "execution_count": 7,
   "id": "f64fa2f9-0cfd-4e76-9266-4444cdee6388",
   "metadata": {},
   "outputs": [
    {
     "data": {
      "text/plain": [
       "array([ True, False])"
      ]
     },
     "execution_count": 7,
     "metadata": {},
     "output_type": "execute_result"
    }
   ],
   "source": [
    "groups = groups == \"Visceral Leishmaniasis\"  # Combine 'Asymptomatic' and 'Healthy from Endemic area'\n",
    "groups.unique()"
   ]
  },
  {
   "cell_type": "code",
   "execution_count": 8,
   "id": "3839b473-5599-44f6-931e-4772b389be82",
   "metadata": {},
   "outputs": [
    {
     "name": "stdout",
     "output_type": "stream",
     "text": [
      "Train size: 416\n",
      "Test size: 179\n"
     ]
    }
   ],
   "source": [
    "from sklearn.model_selection import train_test_split\n",
    "\n",
    "X_train, X_test, y_train, y_test = train_test_split(\n",
    "    derived_traits, groups, test_size=0.3, stratify=groups, shuffle=True, random_state=42\n",
    ")\n",
    "print(\"Train size:\", X_train.shape[0])\n",
    "print(\"Test size:\", X_test.shape[0])"
   ]
  },
  {
   "cell_type": "markdown",
   "id": "94d7f12b-797b-43a2-aaa2-6de0b4c9bc57",
   "metadata": {},
   "source": [
    "## Model selection"
   ]
  },
  {
   "cell_type": "markdown",
   "id": "7ca523a6-e5e6-490e-ae77-3ae0c1fa4b2a",
   "metadata": {},
   "source": [
    "Here we try several machine learning algorithms for performance benchmark.\n",
    "Algorithms to use: Logistic Regression, Support Vector Machine, Random Forest.\n",
    "The models are evaluated on the trian set using 10-fold cross-validation by F1-score.\n",
    "Neither accuracy or ROC AUC are used because the dataset is slightly imbalanced.\n",
    "F1-score reflects the classification power of the positive samples more accurately in these situations."
   ]
  },
  {
   "cell_type": "code",
   "execution_count": 9,
   "id": "fe808b79-b6de-4e84-aa37-5e144b1a0a45",
   "metadata": {},
   "outputs": [
    {
     "name": "stdout",
     "output_type": "stream",
     "text": [
      "LR: 0.788 +- 0.097\n",
      "SVM: 0.764 +- 0.091\n",
      "RF: 0.763 +- 0.073\n"
     ]
    }
   ],
   "source": [
    "from sklearn.model_selection import cross_val_score\n",
    "from sklearn.pipeline import make_pipeline\n",
    "from sklearn.preprocessing import StandardScaler\n",
    "from sklearn.linear_model import LogisticRegression\n",
    "from sklearn.svm import SVC\n",
    "from sklearn.ensemble import RandomForestClassifier\n",
    "\n",
    "lr = make_pipeline(StandardScaler(), LogisticRegression(random_state=42))\n",
    "svm = make_pipeline(StandardScaler(), SVC(random_state=42))\n",
    "rf = RandomForestClassifier(n_estimators=1000, random_state=42)\n",
    "\n",
    "lr_scores = cross_val_score(lr, X_train, y_train, cv=10, scoring=\"f1\")\n",
    "svm_scores = cross_val_score(svm, X_train, y_train, cv=10, scoring=\"f1\")\n",
    "rf_scores = cross_val_score(rf, X_train, y_train, cv=10, scoring=\"f1\")\n",
    "\n",
    "print(f\"LR: {lr_scores.mean():.3f} +- {lr_scores.std():.3f}\")\n",
    "print(f\"SVM: {svm_scores.mean():.3f} +- {svm_scores.std():.3f}\")\n",
    "print(f\"RF: {rf_scores.mean():.3f} +- {rf_scores.std():.3f}\")"
   ]
  },
  {
   "cell_type": "markdown",
   "id": "7d50c277-4f08-4ed9-b154-474752370350",
   "metadata": {},
   "source": [
    "It seems that Logistic Regression performed the best. \n",
    "This might be due to the rather simple feature dimension we used.\n",
    "Now we will train the model on the whole train set and evaluate its performance on the test set."
   ]
  },
  {
   "cell_type": "code",
   "execution_count": 10,
   "id": "38747585-610f-4909-8e07-ecabbe613e59",
   "metadata": {},
   "outputs": [
    {
     "name": "stdout",
     "output_type": "stream",
     "text": [
      "Accuracy: 0.860\n",
      "ROC AUC: 0.839\n",
      "F1-score: 0.779\n"
     ]
    }
   ],
   "source": [
    "from sklearn.metrics import accuracy_score, f1_score, roc_auc_score\n",
    "\n",
    "lr.fit(X_train, y_train)\n",
    "y_pred = lr.predict(X_test)\n",
    "y_proba = lr.predict_proba(X_test)[:,1]\n",
    "\n",
    "print(f\"Accuracy: {accuracy_score(y_test, y_pred):.3f}\")\n",
    "print(f\"ROC AUC: {roc_auc_score(y_test, y_proba):.3f}\")\n",
    "print(f\"F1-score: {f1_score(y_test, y_pred):.3f}\")"
   ]
  },
  {
   "cell_type": "markdown",
   "id": "f17cf78f-5e16-49f0-8d42-989610fca4de",
   "metadata": {},
   "source": [
    "## Model explaination"
   ]
  },
  {
   "cell_type": "markdown",
   "id": "0ada8dd7-25e8-4722-bd84-856dfe9f2c4a",
   "metadata": {},
   "source": [
    "As Logistic Regression is a \"white-box\" model,\n",
    "we first look at its coefficients to get a gist of how each derived traits affected the model"
   ]
  },
  {
   "cell_type": "code",
   "execution_count": 11,
   "id": "9c73e9c2-5ac8-4169-b0a4-72c929c45319",
   "metadata": {},
   "outputs": [
    {
     "data": {
      "text/html": [
       "<div>\n",
       "<style scoped>\n",
       "    .dataframe tbody tr th:only-of-type {\n",
       "        vertical-align: middle;\n",
       "    }\n",
       "\n",
       "    .dataframe tbody tr th {\n",
       "        vertical-align: top;\n",
       "    }\n",
       "\n",
       "    .dataframe thead th {\n",
       "        text-align: right;\n",
       "    }\n",
       "</style>\n",
       "<table border=\"1\" class=\"dataframe\">\n",
       "  <thead>\n",
       "    <tr style=\"text-align: right;\">\n",
       "      <th></th>\n",
       "      <th>feature</th>\n",
       "      <th>coef</th>\n",
       "    </tr>\n",
       "  </thead>\n",
       "  <tbody>\n",
       "    <tr>\n",
       "      <th>0</th>\n",
       "      <td>TM</td>\n",
       "      <td>-0.461379</td>\n",
       "    </tr>\n",
       "    <tr>\n",
       "      <th>1</th>\n",
       "      <td>THy</td>\n",
       "      <td>0.244546</td>\n",
       "    </tr>\n",
       "    <tr>\n",
       "      <th>2</th>\n",
       "      <td>CA1</td>\n",
       "      <td>-0.654037</td>\n",
       "    </tr>\n",
       "    <tr>\n",
       "      <th>3</th>\n",
       "      <td>CA2</td>\n",
       "      <td>0.005260</td>\n",
       "    </tr>\n",
       "    <tr>\n",
       "      <th>4</th>\n",
       "      <td>CA3</td>\n",
       "      <td>-0.410786</td>\n",
       "    </tr>\n",
       "    <tr>\n",
       "      <th>5</th>\n",
       "      <td>CA4</td>\n",
       "      <td>1.351729</td>\n",
       "    </tr>\n",
       "    <tr>\n",
       "      <th>6</th>\n",
       "      <td>TS</td>\n",
       "      <td>-1.197162</td>\n",
       "    </tr>\n",
       "    <tr>\n",
       "      <th>7</th>\n",
       "      <td>TE</td>\n",
       "      <td>-0.538681</td>\n",
       "    </tr>\n",
       "    <tr>\n",
       "      <th>8</th>\n",
       "      <td>TL</td>\n",
       "      <td>-1.343513</td>\n",
       "    </tr>\n",
       "    <tr>\n",
       "      <th>9</th>\n",
       "      <td>TFc</td>\n",
       "      <td>1.294944</td>\n",
       "    </tr>\n",
       "    <tr>\n",
       "      <th>10</th>\n",
       "      <td>TFa</td>\n",
       "      <td>-0.160862</td>\n",
       "    </tr>\n",
       "    <tr>\n",
       "      <th>11</th>\n",
       "      <td>TB</td>\n",
       "      <td>-0.719854</td>\n",
       "    </tr>\n",
       "    <tr>\n",
       "      <th>12</th>\n",
       "      <td>SG</td>\n",
       "      <td>1.058913</td>\n",
       "    </tr>\n",
       "    <tr>\n",
       "      <th>13</th>\n",
       "      <td>EG</td>\n",
       "      <td>0.651073</td>\n",
       "    </tr>\n",
       "    <tr>\n",
       "      <th>14</th>\n",
       "      <td>LG</td>\n",
       "      <td>1.171745</td>\n",
       "    </tr>\n",
       "  </tbody>\n",
       "</table>\n",
       "</div>"
      ],
      "text/plain": [
       "   feature      coef\n",
       "0       TM -0.461379\n",
       "1      THy  0.244546\n",
       "2      CA1 -0.654037\n",
       "3      CA2  0.005260\n",
       "4      CA3 -0.410786\n",
       "5      CA4  1.351729\n",
       "6       TS -1.197162\n",
       "7       TE -0.538681\n",
       "8       TL -1.343513\n",
       "9      TFc  1.294944\n",
       "10     TFa -0.160862\n",
       "11      TB -0.719854\n",
       "12      SG  1.058913\n",
       "13      EG  0.651073\n",
       "14      LG  1.171745"
      ]
     },
     "execution_count": 11,
     "metadata": {},
     "output_type": "execute_result"
    }
   ],
   "source": [
    "feature_coefs = pd.DataFrame({\n",
    "    \"feature\": X_train.columns,\n",
    "    \"coef\": lr[\"logisticregression\"].coef_.reshape(-1),\n",
    "})\n",
    "feature_coefs"
   ]
  },
  {
   "cell_type": "markdown",
   "id": "afeb0ac4-86d0-47ac-ad45-6c0c70f581f9",
   "metadata": {},
   "source": [
    "The feature had been standarized before fed into the model.\n",
    "Therefore, the absolute values of the coefficients could reflect feature importance,\n",
    "while the signs reflect the influence direction of the feature."
   ]
  },
  {
   "cell_type": "markdown",
   "id": "8898b479-ddce-4813-ac84-bbb9b03ff435",
   "metadata": {},
   "source": [
    "From the result above, we could tell that CA4, TS, TL, TFc, SG and LG had large impacts on the model.\n",
    "A higher value of CA4, TFc, SG, and LG pushed the model to make positive predictions,\n",
    "while TS and TL had the opposite impact."
   ]
  },
  {
   "cell_type": "markdown",
   "id": "535c60dc-9ae6-4aff-aef8-627298e0274d",
   "metadata": {},
   "source": [
    "Next, we use the SHAP (SHapley Additive exPlanations) algorithm to explain the predictions of the model.\n",
    "In our simple case, using SHAP seems a little too much.\n",
    "However, this method is model-agostic to be adopted in any more complex situations.\n",
    "We demonstrate the method here just for instructional purposes."
   ]
  },
  {
   "cell_type": "code",
   "execution_count": 12,
   "id": "2f5a4373-ac01-4f37-89c9-9e52db338865",
   "metadata": {},
   "outputs": [
    {
     "name": "stderr",
     "output_type": "stream",
     "text": [
      "IProgress not found. Please update jupyter and ipywidgets. See https://ipywidgets.readthedocs.io/en/stable/user_install.html\n"
     ]
    }
   ],
   "source": [
    "import shap\n",
    "\n",
    "explainer = shap.Explainer(lr.predict, X_train)\n",
    "shap_values = explainer(X_test)"
   ]
  },
  {
   "cell_type": "code",
   "execution_count": 13,
   "id": "29a5a6fd-087f-4cb0-9e4e-c2b37d106128",
   "metadata": {},
   "outputs": [
    {
     "name": "stderr",
     "output_type": "stream",
     "text": [
      "No data for colormapping provided via 'c'. Parameters 'vmin', 'vmax' will be ignored\n"
     ]
    },
    {
     "data": {
      "image/png": "[encoded data removed]",
      "text/plain": [
       "<Figure size 800x550 with 2 Axes>"
      ]
     },
     "metadata": {},
     "output_type": "display_data"
    }
   ],
   "source": [
    "shap.plots.beeswarm(shap_values)"
   ]
  },
  {
   "cell_type": "markdown",
   "id": "4b89570c-7bd9-4e6f-920b-2f8d72fee5f2",
   "metadata": {},
   "source": [
    "From the plot above, we could get the same conclusion as before.\n",
    "CA4, TL, TFc, LG, TS and SG have the largest impact on model predictions."
   ]
  }
 ],
 "metadata": {
  "kernelspec": {
   "display_name": "Python 3 (ipykernel)",
   "language": "python",
   "name": "python3"
  },
  "language_info": {
   "codemirror_mode": {
    "name": "ipython",
    "version": 3
   },
   "file_extension": ".py",
   "mimetype": "text/x-python",
   "name": "python",
   "nbconvert_exporter": "python",
   "pygments_lexer": "ipython3",
   "version": "3.10.12"
  }
 },
 "nbformat": 4,
 "nbformat_minor": 5
}
