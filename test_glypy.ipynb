{
 "cells": [
  {
   "cell_type": "code",
   "execution_count": 1,
   "metadata": {
    "collapsed": true,
    "ExecuteTime": {
     "end_time": "2023-05-25T01:27:59.083401Z",
     "start_time": "2023-05-25T01:27:58.859192Z"
    }
   },
   "outputs": [],
   "source": [
    "import glypy"
   ]
  },
  {
   "cell_type": "code",
   "execution_count": 2,
   "outputs": [],
   "source": [
    "glycoct = \"\"\"RES\n",
    "1b:x-dglc-HEX-1:5\n",
    "2b:x-lgal-HEX-1:5|6:d\n",
    "3b:x-dglc-HEX-1:5\n",
    "4b:x-dman-HEX-1:5\n",
    "5b:x-dglc-HEX-1:5\n",
    "6s:n-acetyl\n",
    "7b:x-dman-HEX-1:5\n",
    "8b:x-dglc-HEX-1:5\n",
    "9b:x-dgal-HEX-1:5\n",
    "10s:n-acetyl\n",
    "11b:x-dman-HEX-1:5\n",
    "12b:x-dglc-HEX-1:5\n",
    "13b:x-dgal-HEX-1:5\n",
    "14b:x-dgro-dgal-NON-2:6|1:a|2:keto|3:d\n",
    "15s:n-acetyl\n",
    "16s:n-acetyl\n",
    "17s:n-acetyl\n",
    "18s:n-acetyl\n",
    "LIN\n",
    "1:1o(-1+1)2d\n",
    "2:1o(-1+1)3d\n",
    "3:3o(-1+1)4d\n",
    "4:4o(-1+1)5d\n",
    "5:5d(2+1)6n\n",
    "6:4o(-1+1)7d\n",
    "7:7o(-1+1)8d\n",
    "8:8o(-1+1)9d\n",
    "9:8d(2+1)10n\n",
    "10:4o(-1+1)11d\n",
    "11:11o(-1+1)12d\n",
    "12:12o(-1+1)13d\n",
    "13:13o(-1+2)14d\n",
    "14:14d(5+1)15n\n",
    "15:12d(2+1)16n\n",
    "16:3d(2+1)17n\n",
    "17:1d(2+1)18n\"\"\""
   ],
   "metadata": {
    "collapsed": false,
    "ExecuteTime": {
     "end_time": "2023-05-25T01:28:45.553661Z",
     "start_time": "2023-05-25T01:28:45.543856Z"
    }
   }
  },
  {
   "cell_type": "code",
   "execution_count": 3,
   "outputs": [],
   "source": [
    "glycan = glypy.io.glycoct.loads(glycoct)"
   ],
   "metadata": {
    "collapsed": false,
    "ExecuteTime": {
     "end_time": "2023-05-25T01:29:08.504289Z",
     "start_time": "2023-05-25T01:29:08.490541Z"
    }
   }
  },
  {
   "cell_type": "code",
   "execution_count": 4,
   "outputs": [
    {
     "name": "stdout",
     "output_type": "stream",
     "text": [
      "RES 1b:x-dglc-HEX-1:5 2s:n-acetyl LIN 1:1d(2+1)2n\n",
      "RES 1b:x-dglc-HEX-1:5 2s:n-acetyl LIN 1:1d(2+1)2n\n",
      "RES 1b:x-dman-HEX-1:5\n",
      "RES 1b:x-dman-HEX-1:5\n",
      "RES 1b:x-dglc-HEX-1:5 2s:n-acetyl LIN 1:1d(2+1)2n\n",
      "RES 1b:x-dgal-HEX-1:5\n",
      "RES 1b:x-dgro-dgal-NON-2:6|1:a|2:keto|3:d 2s:n-acetyl LIN 1:1d(5+1)2n\n",
      "RES 1b:x-dman-HEX-1:5\n",
      "RES 1b:x-dglc-HEX-1:5 2s:n-acetyl LIN 1:1d(2+1)2n\n",
      "RES 1b:x-dgal-HEX-1:5\n",
      "RES 1b:x-dglc-HEX-1:5 2s:n-acetyl LIN 1:1d(2+1)2n\n",
      "RES 1b:x-lgal-HEX-1:5|6:d\n"
     ]
    }
   ],
   "source": [
    "for mono in glycan:\n",
    "    print(mono)"
   ],
   "metadata": {
    "collapsed": false,
    "ExecuteTime": {
     "end_time": "2023-05-25T01:29:29.138588Z",
     "start_time": "2023-05-25T01:29:29.132893Z"
    }
   }
  },
  {
   "cell_type": "code",
   "execution_count": 5,
   "outputs": [
    {
     "name": "stdout",
     "output_type": "stream",
     "text": [
      "[-1]\n",
      "{\n",
      "    \"-1\": [\n",
      "        \"(1)o(-1+1)d(18)[x]\",\n",
      "        \"(1)o(-1+1)d(3)[x]\"\n",
      "    ]\n",
      "}\n",
      "[1, -1]\n",
      "{\n",
      "    \"-1\": [\n",
      "        \"(3)o(-1+1)d(5)[x]\"\n",
      "    ],\n",
      "    \"1\": [\n",
      "        \"(1)o(-1+1)d(3)[x]\"\n",
      "    ]\n",
      "}\n",
      "[1, -1]\n",
      "{\n",
      "    \"-1\": [\n",
      "        \"(5)o(-1+1)d(16)[x]\",\n",
      "        \"(5)o(-1+1)d(12)[x]\",\n",
      "        \"(5)o(-1+1)d(6)[x]\"\n",
      "    ],\n",
      "    \"1\": [\n",
      "        \"(3)o(-1+1)d(5)[x]\"\n",
      "    ]\n",
      "}\n",
      "[1, -1]\n",
      "{\n",
      "    \"-1\": [\n",
      "        \"(6)o(-1+1)d(7)[x]\"\n",
      "    ],\n",
      "    \"1\": [\n",
      "        \"(5)o(-1+1)d(6)[x]\"\n",
      "    ]\n",
      "}\n",
      "[1, -1]\n",
      "{\n",
      "    \"-1\": [\n",
      "        \"(7)o(-1+1)d(9)[x]\"\n",
      "    ],\n",
      "    \"1\": [\n",
      "        \"(6)o(-1+1)d(7)[x]\"\n",
      "    ]\n",
      "}\n",
      "[1, -1]\n",
      "{\n",
      "    \"-1\": [\n",
      "        \"(9)o(-1+2)d(10)[x]\"\n",
      "    ],\n",
      "    \"1\": [\n",
      "        \"(7)o(-1+1)d(9)[x]\"\n",
      "    ]\n",
      "}\n",
      "[2]\n",
      "{\n",
      "    \"2\": [\n",
      "        \"(9)o(-1+2)d(10)[x]\"\n",
      "    ]\n",
      "}\n",
      "[1, -1]\n",
      "{\n",
      "    \"-1\": [\n",
      "        \"(12)o(-1+1)d(13)[x]\"\n",
      "    ],\n",
      "    \"1\": [\n",
      "        \"(5)o(-1+1)d(12)[x]\"\n",
      "    ]\n",
      "}\n",
      "[1, -1]\n",
      "{\n",
      "    \"-1\": [\n",
      "        \"(13)o(-1+1)d(15)[x]\"\n",
      "    ],\n",
      "    \"1\": [\n",
      "        \"(12)o(-1+1)d(13)[x]\"\n",
      "    ]\n",
      "}\n",
      "[1]\n",
      "{\n",
      "    \"1\": [\n",
      "        \"(13)o(-1+1)d(15)[x]\"\n",
      "    ]\n",
      "}\n",
      "[1]\n",
      "{\n",
      "    \"1\": [\n",
      "        \"(5)o(-1+1)d(16)[x]\"\n",
      "    ]\n",
      "}\n",
      "[1]\n",
      "{\n",
      "    \"1\": [\n",
      "        \"(1)o(-1+1)d(18)[x]\"\n",
      "    ]\n",
      "}\n"
     ]
    }
   ],
   "source": [
    "for mono in glycan:\n",
    "    print(mono.links)"
   ],
   "metadata": {
    "collapsed": false,
    "ExecuteTime": {
     "end_time": "2023-05-25T01:29:58.337512Z",
     "start_time": "2023-05-25T01:29:58.333769Z"
    }
   }
  },
  {
   "cell_type": "code",
   "execution_count": 6,
   "outputs": [
    {
     "name": "stdout",
     "output_type": "stream",
     "text": [
      "[2]\n",
      "{\n",
      "    \"2\": [\n",
      "        \"(1)d(2+1)n(2)[x]\"\n",
      "    ]\n",
      "}\n",
      "[2]\n",
      "{\n",
      "    \"2\": [\n",
      "        \"(3)d(2+1)n(4)[x]\"\n",
      "    ]\n",
      "}\n",
      "[]\n",
      "{}\n",
      "[]\n",
      "{}\n",
      "[2]\n",
      "{\n",
      "    \"2\": [\n",
      "        \"(7)d(2+1)n(8)[x]\"\n",
      "    ]\n",
      "}\n",
      "[]\n",
      "{}\n",
      "[5]\n",
      "{\n",
      "    \"5\": [\n",
      "        \"(10)d(5+1)n(11)[x]\"\n",
      "    ]\n",
      "}\n",
      "[]\n",
      "{}\n",
      "[2]\n",
      "{\n",
      "    \"2\": [\n",
      "        \"(13)d(2+1)n(14)[x]\"\n",
      "    ]\n",
      "}\n",
      "[]\n",
      "{}\n",
      "[2]\n",
      "{\n",
      "    \"2\": [\n",
      "        \"(16)d(2+1)n(17)[x]\"\n",
      "    ]\n",
      "}\n",
      "[]\n",
      "{}\n"
     ]
    }
   ],
   "source": [
    "for mono in glycan:\n",
    "    print(mono.substituent_links)"
   ],
   "metadata": {
    "collapsed": false,
    "ExecuteTime": {
     "end_time": "2023-05-25T01:31:05.974428Z",
     "start_time": "2023-05-25T01:31:05.969608Z"
    }
   }
  },
  {
   "cell_type": "code",
   "execution_count": 7,
   "outputs": [
    {
     "data": {
      "text/plain": "[RES 1b:x-dglc-HEX-1:5 2s:n-acetyl LIN 1:1d(2+1)2n,\n RES 1b:x-dglc-HEX-1:5 2s:n-acetyl LIN 1:1d(2+1)2n,\n RES 1b:x-dman-HEX-1:5,\n RES 1b:x-dman-HEX-1:5,\n RES 1b:x-dglc-HEX-1:5 2s:n-acetyl LIN 1:1d(2+1)2n,\n RES 1b:x-dgal-HEX-1:5,\n RES 1b:x-dgro-dgal-NON-2:6|1:a|2:keto|3:d 2s:n-acetyl LIN 1:1d(5+1)2n,\n RES 1b:x-dman-HEX-1:5,\n RES 1b:x-dglc-HEX-1:5 2s:n-acetyl LIN 1:1d(2+1)2n,\n RES 1b:x-dgal-HEX-1:5,\n RES 1b:x-dglc-HEX-1:5 2s:n-acetyl LIN 1:1d(2+1)2n,\n RES 1b:x-lgal-HEX-1:5|6:d]"
     },
     "execution_count": 7,
     "metadata": {},
     "output_type": "execute_result"
    }
   ],
   "source": [
    "glycan.index"
   ],
   "metadata": {
    "collapsed": false,
    "ExecuteTime": {
     "end_time": "2023-05-25T01:35:13.203036Z",
     "start_time": "2023-05-25T01:35:13.185691Z"
    }
   }
  },
  {
   "cell_type": "code",
   "execution_count": 8,
   "outputs": [
    {
     "data": {
      "text/plain": "defaultdict(int, {'-': 6, 'a': 1, 'b': 6, 'c': 3, 'd': 5, 'e': 6})"
     },
     "execution_count": 8,
     "metadata": {},
     "output_type": "execute_result"
    }
   ],
   "source": [
    "glycan.branch_lengths"
   ],
   "metadata": {
    "collapsed": false,
    "ExecuteTime": {
     "end_time": "2023-05-25T01:36:24.734671Z",
     "start_time": "2023-05-25T01:36:24.729757Z"
    }
   }
  },
  {
   "cell_type": "code",
   "execution_count": 9,
   "outputs": [
    {
     "data": {
      "text/plain": "2"
     },
     "execution_count": 9,
     "metadata": {},
     "output_type": "execute_result"
    }
   ],
   "source": [
    "glycan.count_branches()"
   ],
   "metadata": {
    "collapsed": false,
    "ExecuteTime": {
     "end_time": "2023-05-25T01:38:52.324581Z",
     "start_time": "2023-05-25T01:38:52.304720Z"
    }
   }
  },
  {
   "cell_type": "code",
   "execution_count": 10,
   "outputs": [
    {
     "data": {
      "text/plain": "12"
     },
     "execution_count": 10,
     "metadata": {},
     "output_type": "execute_result"
    }
   ],
   "source": [
    "glycan.order()"
   ],
   "metadata": {
    "collapsed": false,
    "ExecuteTime": {
     "end_time": "2023-05-25T01:38:57.875156Z",
     "start_time": "2023-05-25T01:38:57.870046Z"
    }
   }
  },
  {
   "cell_type": "code",
   "execution_count": 13,
   "outputs": [
    {
     "name": "stdout",
     "output_type": "stream",
     "text": [
      "10\n",
      "15\n",
      "16\n",
      "18\n"
     ]
    }
   ],
   "source": [
    "for l in glycan.leaves():\n",
    "    print()"
   ],
   "metadata": {
    "collapsed": false,
    "ExecuteTime": {
     "end_time": "2023-05-25T01:40:25.391066Z",
     "start_time": "2023-05-25T01:40:25.386322Z"
    }
   }
  },
  {
   "cell_type": "code",
   "execution_count": 14,
   "outputs": [],
   "source": [
    "mono = glycan[0]"
   ],
   "metadata": {
    "collapsed": false,
    "ExecuteTime": {
     "end_time": "2023-05-25T01:40:42.379183Z",
     "start_time": "2023-05-25T01:40:42.375719Z"
    }
   }
  },
  {
   "cell_type": "code",
   "execution_count": 15,
   "outputs": [
    {
     "data": {
      "text/plain": "[-1]\n{\n    \"-1\": [\n        \"(1)o(-1+1)d(18)[x]\",\n        \"(1)o(-1+1)d(3)[x]\"\n    ]\n}"
     },
     "execution_count": 15,
     "metadata": {},
     "output_type": "execute_result"
    }
   ],
   "source": [
    "mono.links"
   ],
   "metadata": {
    "collapsed": false,
    "ExecuteTime": {
     "end_time": "2023-05-25T01:40:50.848461Z",
     "start_time": "2023-05-25T01:40:50.843583Z"
    }
   }
  },
  {
   "cell_type": "code",
   "execution_count": 16,
   "outputs": [
    {
     "data": {
      "text/plain": "[]"
     },
     "execution_count": 16,
     "metadata": {},
     "output_type": "execute_result"
    }
   ],
   "source": [
    "glycan.ambiguous_links()"
   ],
   "metadata": {
    "collapsed": false,
    "ExecuteTime": {
     "end_time": "2023-05-25T01:42:24.005365Z",
     "start_time": "2023-05-25T01:42:23.993657Z"
    }
   }
  },
  {
   "cell_type": "code",
   "execution_count": 17,
   "outputs": [
    {
     "data": {
      "text/plain": "Composition({'C': 87, 'H': 144, 'O': 63, 'N': 6})"
     },
     "execution_count": 17,
     "metadata": {},
     "output_type": "execute_result"
    }
   ],
   "source": [
    "glycan.total_composition()"
   ],
   "metadata": {
    "collapsed": false,
    "ExecuteTime": {
     "end_time": "2023-05-25T01:42:53.261593Z",
     "start_time": "2023-05-25T01:42:53.254464Z"
    }
   }
  },
  {
   "cell_type": "code",
   "execution_count": 18,
   "outputs": [],
   "source": [
    "comp = glypy.structure.glycan_composition.GlycanComposition.from_glycan(glycan)"
   ],
   "metadata": {
    "collapsed": false,
    "ExecuteTime": {
     "end_time": "2023-05-25T01:50:06.035864Z",
     "start_time": "2023-05-25T01:50:06.022908Z"
    }
   }
  },
  {
   "cell_type": "code",
   "execution_count": 19,
   "outputs": [
    {
     "data": {
      "text/plain": "{MonosaccharideResidue(Glc2NAc): 5,\n MonosaccharideResidue(Man): 3,\n MonosaccharideResidue(Gal): 2,\n MonosaccharideResidue(Neu5Ac): 1,\n MonosaccharideResidue(Fuc): 1}"
     },
     "execution_count": 19,
     "metadata": {},
     "output_type": "execute_result"
    }
   ],
   "source": [
    "comp"
   ],
   "metadata": {
    "collapsed": false,
    "ExecuteTime": {
     "end_time": "2023-05-25T01:50:09.549941Z",
     "start_time": "2023-05-25T01:50:09.523688Z"
    }
   }
  },
  {
   "cell_type": "code",
   "execution_count": 25,
   "outputs": [
    {
     "data": {
      "text/plain": "'{Fuc:1; Gal:2; Man:3; Glc2NAc:5; Neu5Ac:1}'"
     },
     "execution_count": 25,
     "metadata": {},
     "output_type": "execute_result"
    }
   ],
   "source": [
    "glypy.glycan_composition.to_iupac_lite(comp)"
   ],
   "metadata": {
    "collapsed": false,
    "ExecuteTime": {
     "end_time": "2023-05-25T02:35:50.272853Z",
     "start_time": "2023-05-25T02:35:50.270588Z"
    }
   }
  },
  {
   "cell_type": "code",
   "execution_count": 20,
   "outputs": [
    {
     "name": "stdout",
     "output_type": "stream",
     "text": [
      "Glc2NAc\n",
      "Glc2NAc\n",
      "Man\n",
      "Man\n",
      "Glc2NAc\n",
      "Gal\n",
      "Neu5Ac\n",
      "Man\n",
      "Glc2NAc\n",
      "Gal\n",
      "Glc2NAc\n",
      "Fuc\n"
     ]
    }
   ],
   "source": [
    "for mono in glycan:\n",
    "    print(glypy.structure.glycan_composition.MonosaccharideResidue.from_monosaccharide(mono))"
   ],
   "metadata": {
    "collapsed": false,
    "ExecuteTime": {
     "end_time": "2023-05-25T01:51:32.390961Z",
     "start_time": "2023-05-25T01:51:32.385849Z"
    }
   }
  },
  {
   "cell_type": "code",
   "execution_count": 27,
   "outputs": [
    {
     "ename": "GlycoCTError",
     "evalue": "Unknown format error: wrong on line 1",
     "output_type": "error",
     "traceback": [
      "\u001B[0;31m---------------------------------------------------------------------------\u001B[0m",
      "\u001B[0;31mGlycoCTError\u001B[0m                              Traceback (most recent call last)",
      "Cell \u001B[0;32mIn[27], line 1\u001B[0m\n\u001B[0;32m----> 1\u001B[0m \u001B[43mglypy\u001B[49m\u001B[38;5;241;43m.\u001B[39;49m\u001B[43mio\u001B[49m\u001B[38;5;241;43m.\u001B[39;49m\u001B[43mglycoct\u001B[49m\u001B[38;5;241;43m.\u001B[39;49m\u001B[43mloads\u001B[49m\u001B[43m(\u001B[49m\u001B[38;5;124;43m\"\u001B[39;49m\u001B[38;5;124;43mwrong\u001B[39;49m\u001B[38;5;124;43m\"\u001B[39;49m\u001B[43m)\u001B[49m\n",
      "File \u001B[0;32m~/Python/glytrait/.venv/lib/python3.10/site-packages/glypy/io/glycoct.py:1604\u001B[0m, in \u001B[0;36mloads\u001B[0;34m(text, structure_class, allow_repeats, allow_multiple)\u001B[0m\n\u001B[1;32m   1587\u001B[0m \u001B[38;5;250m\u001B[39m\u001B[38;5;124;03m\"\"\"Read all structures from the provided text string.\u001B[39;00m\n\u001B[1;32m   1588\u001B[0m \n\u001B[1;32m   1589\u001B[0m \u001B[38;5;124;03mParameters\u001B[39;00m\n\u001B[0;32m   (...)\u001B[0m\n\u001B[1;32m   1600\u001B[0m \u001B[38;5;124;03m:class:`~.Glycan` or :class:`list` of :class:`~.Glycan`\u001B[39;00m\n\u001B[1;32m   1601\u001B[0m \u001B[38;5;124;03m\"\"\"\u001B[39;00m\n\u001B[1;32m   1603\u001B[0m text_buffer \u001B[38;5;241m=\u001B[39m StringIO(text)\n\u001B[0;32m-> 1604\u001B[0m \u001B[38;5;28;01mreturn\u001B[39;00m \u001B[43mload\u001B[49m\u001B[43m(\u001B[49m\u001B[43mtext_buffer\u001B[49m\u001B[43m,\u001B[49m\u001B[43m \u001B[49m\u001B[43mstructure_class\u001B[49m\u001B[43m,\u001B[49m\u001B[43m \u001B[49m\u001B[43mallow_repeats\u001B[49m\u001B[43m,\u001B[49m\u001B[43m \u001B[49m\u001B[43mallow_multiple\u001B[49m\u001B[43m)\u001B[49m\n",
      "File \u001B[0;32m~/Python/glytrait/.venv/lib/python3.10/site-packages/glypy/io/glycoct.py:1573\u001B[0m, in \u001B[0;36mload\u001B[0;34m(stream, structure_class, allow_repeats, allow_multiple)\u001B[0m\n\u001B[1;32m   1557\u001B[0m \u001B[38;5;250m\u001B[39m\u001B[38;5;124;03m\"\"\"Read all structures from the provided text stream.\u001B[39;00m\n\u001B[1;32m   1558\u001B[0m \n\u001B[1;32m   1559\u001B[0m \u001B[38;5;124;03mParameters\u001B[39;00m\n\u001B[0;32m   (...)\u001B[0m\n\u001B[1;32m   1570\u001B[0m \u001B[38;5;124;03m:class:`~.Glycan` or :class:`list` of :class:`~.Glycan`\u001B[39;00m\n\u001B[1;32m   1571\u001B[0m \u001B[38;5;124;03m\"\"\"\u001B[39;00m\n\u001B[1;32m   1572\u001B[0m g \u001B[38;5;241m=\u001B[39m GlycoCTReader(stream, structure_class\u001B[38;5;241m=\u001B[39mstructure_class, allow_repeats\u001B[38;5;241m=\u001B[39mallow_repeats)\n\u001B[0;32m-> 1573\u001B[0m first \u001B[38;5;241m=\u001B[39m \u001B[38;5;28;43mnext\u001B[39;49m\u001B[43m(\u001B[49m\u001B[43mg\u001B[49m\u001B[43m)\u001B[49m\n\u001B[1;32m   1574\u001B[0m \u001B[38;5;28;01mif\u001B[39;00m \u001B[38;5;129;01mnot\u001B[39;00m allow_multiple:\n\u001B[1;32m   1575\u001B[0m     \u001B[38;5;28;01mreturn\u001B[39;00m first\n",
      "File \u001B[0;32m~/Python/glytrait/.venv/lib/python3.10/site-packages/glypy/io/glycoct.py:1155\u001B[0m, in \u001B[0;36mGlycoCTReader.next\u001B[0;34m(self)\u001B[0m\n\u001B[1;32m   1153\u001B[0m \u001B[38;5;28;01mif\u001B[39;00m \u001B[38;5;28mself\u001B[39m\u001B[38;5;241m.\u001B[39m_iter \u001B[38;5;129;01mis\u001B[39;00m \u001B[38;5;28;01mNone\u001B[39;00m:\n\u001B[1;32m   1154\u001B[0m     \u001B[38;5;28miter\u001B[39m(\u001B[38;5;28mself\u001B[39m)\n\u001B[0;32m-> 1155\u001B[0m \u001B[38;5;28;01mreturn\u001B[39;00m \u001B[38;5;28;43mnext\u001B[39;49m\u001B[43m(\u001B[49m\u001B[38;5;28;43mself\u001B[39;49m\u001B[38;5;241;43m.\u001B[39;49m\u001B[43m_iter\u001B[49m\u001B[43m)\u001B[49m\n",
      "File \u001B[0;32m~/Python/glytrait/.venv/lib/python3.10/site-packages/glypy/io/glycoct.py:1538\u001B[0m, in \u001B[0;36mGlycoCTReader.parse\u001B[0;34m(self)\u001B[0m\n\u001B[1;32m   1536\u001B[0m         \u001B[38;5;28mself\u001B[39m\u001B[38;5;241m.\u001B[39mhandle_linkage(line)\n\u001B[1;32m   1537\u001B[0m     \u001B[38;5;28;01melse\u001B[39;00m:\n\u001B[0;32m-> 1538\u001B[0m         \u001B[38;5;28;01mraise\u001B[39;00m GlycoCTError(\u001B[38;5;124m\"\u001B[39m\u001B[38;5;124mUnknown format error: \u001B[39m\u001B[38;5;132;01m%s\u001B[39;00m\u001B[38;5;124m on line \u001B[39m\u001B[38;5;132;01m%d\u001B[39;00m\u001B[38;5;124m\"\u001B[39m \u001B[38;5;241m%\u001B[39m (line, \u001B[38;5;28mself\u001B[39m\u001B[38;5;241m.\u001B[39m_source_line))\n\u001B[1;32m   1540\u001B[0m \u001B[38;5;28;01mif\u001B[39;00m \u001B[38;5;28mself\u001B[39m\u001B[38;5;241m.\u001B[39mroot \u001B[38;5;129;01mis\u001B[39;00m \u001B[38;5;129;01mnot\u001B[39;00m \u001B[38;5;28;01mNone\u001B[39;00m:\n\u001B[1;32m   1541\u001B[0m     \u001B[38;5;28mself\u001B[39m\u001B[38;5;241m.\u001B[39m_complete_structure()\n",
      "\u001B[0;31mGlycoCTError\u001B[0m: Unknown format error: wrong on line 1"
     ]
    }
   ],
   "source": [
    "glypy.io.glycoct.loads(\"wrong\")"
   ],
   "metadata": {
    "collapsed": false,
    "ExecuteTime": {
     "end_time": "2023-05-25T02:47:22.187061Z",
     "start_time": "2023-05-25T02:47:22.061619Z"
    }
   }
  },
  {
   "cell_type": "code",
   "execution_count": 43,
   "outputs": [
    {
     "name": "stdout",
     "output_type": "stream",
     "text": [
      "Glc2NAc 1\n",
      "Glc2NAc 3\n",
      "Man 5\n",
      "Man 6\n",
      "Glc2NAc 7\n",
      "Gal 9\n",
      "Neu5Ac 10\n",
      "Man 12\n",
      "Glc2NAc 13\n",
      "Gal 15\n",
      "Glc2NAc 16\n",
      "Fuc 18\n"
     ]
    }
   ],
   "source": [
    "for mono in glycan:\n",
    "    print(glypy.MonosaccharideResidue.from_monosaccharide(mono).residue_name(), end=\" \")\n",
    "    print(mono.id)"
   ],
   "metadata": {
    "collapsed": false,
    "ExecuteTime": {
     "end_time": "2023-05-25T08:07:45.444504Z",
     "start_time": "2023-05-25T08:07:45.427390Z"
    }
   }
  },
  {
   "cell_type": "code",
   "execution_count": 42,
   "outputs": [
    {
     "name": "stdout",
     "output_type": "stream",
     "text": [
      "Glc2NAc\n",
      "1\n",
      "[-1]\n",
      "{\n",
      "    \"-1\": [\n",
      "        \"(1)o(-1+1)d(18)[x]\",\n",
      "        \"(1)o(-1+1)d(3)[x]\"\n",
      "    ]\n",
      "}\n",
      "Glc2NAc\n",
      "3\n",
      "[1, -1]\n",
      "{\n",
      "    \"-1\": [\n",
      "        \"(3)o(-1+1)d(5)[x]\"\n",
      "    ],\n",
      "    \"1\": [\n",
      "        \"(1)o(-1+1)d(3)[x]\"\n",
      "    ]\n",
      "}\n",
      "Man\n",
      "5\n",
      "[1, -1]\n",
      "{\n",
      "    \"-1\": [\n",
      "        \"(5)o(-1+1)d(16)[x]\",\n",
      "        \"(5)o(-1+1)d(12)[x]\",\n",
      "        \"(5)o(-1+1)d(6)[x]\"\n",
      "    ],\n",
      "    \"1\": [\n",
      "        \"(3)o(-1+1)d(5)[x]\"\n",
      "    ]\n",
      "}\n",
      "Man\n",
      "6\n",
      "[1, -1]\n",
      "{\n",
      "    \"-1\": [\n",
      "        \"(6)o(-1+1)d(7)[x]\"\n",
      "    ],\n",
      "    \"1\": [\n",
      "        \"(5)o(-1+1)d(6)[x]\"\n",
      "    ]\n",
      "}\n",
      "Glc2NAc\n",
      "7\n",
      "[1, -1]\n",
      "{\n",
      "    \"-1\": [\n",
      "        \"(7)o(-1+1)d(9)[x]\"\n",
      "    ],\n",
      "    \"1\": [\n",
      "        \"(6)o(-1+1)d(7)[x]\"\n",
      "    ]\n",
      "}\n",
      "Gal\n",
      "9\n",
      "[1, -1]\n",
      "{\n",
      "    \"-1\": [\n",
      "        \"(9)o(-1+2)d(10)[x]\"\n",
      "    ],\n",
      "    \"1\": [\n",
      "        \"(7)o(-1+1)d(9)[x]\"\n",
      "    ]\n",
      "}\n",
      "Neu5Ac\n",
      "10\n",
      "[2]\n",
      "{\n",
      "    \"2\": [\n",
      "        \"(9)o(-1+2)d(10)[x]\"\n",
      "    ]\n",
      "}\n",
      "Man\n",
      "12\n",
      "[1, -1]\n",
      "{\n",
      "    \"-1\": [\n",
      "        \"(12)o(-1+1)d(13)[x]\"\n",
      "    ],\n",
      "    \"1\": [\n",
      "        \"(5)o(-1+1)d(12)[x]\"\n",
      "    ]\n",
      "}\n",
      "Glc2NAc\n",
      "13\n",
      "[1, -1]\n",
      "{\n",
      "    \"-1\": [\n",
      "        \"(13)o(-1+1)d(15)[x]\"\n",
      "    ],\n",
      "    \"1\": [\n",
      "        \"(12)o(-1+1)d(13)[x]\"\n",
      "    ]\n",
      "}\n",
      "Gal\n",
      "15\n",
      "[1]\n",
      "{\n",
      "    \"1\": [\n",
      "        \"(13)o(-1+1)d(15)[x]\"\n",
      "    ]\n",
      "}\n",
      "Glc2NAc\n",
      "16\n",
      "[1]\n",
      "{\n",
      "    \"1\": [\n",
      "        \"(5)o(-1+1)d(16)[x]\"\n",
      "    ]\n",
      "}\n",
      "Fuc\n",
      "18\n",
      "[1]\n",
      "{\n",
      "    \"1\": [\n",
      "        \"(1)o(-1+1)d(18)[x]\"\n",
      "    ]\n",
      "}\n"
     ]
    }
   ],
   "source": [
    "for mono in glycan:\n",
    "    print(glypy.MonosaccharideResidue.from_monosaccharide(mono).residue_name())\n",
    "    print(mono.id)\n",
    "    print(mono.links)"
   ],
   "metadata": {
    "collapsed": false,
    "ExecuteTime": {
     "end_time": "2023-05-25T08:06:28.733397Z",
     "start_time": "2023-05-25T08:06:28.705038Z"
    }
   }
  },
  {
   "cell_type": "code",
   "execution_count": 83,
   "outputs": [
    {
     "name": "stdout",
     "output_type": "stream",
     "text": [
      "0 Glc2NAc 2\n",
      "1 Glc2NAc 2\n",
      "2 Man 4\n",
      "3 Glc2NAc 1\n",
      "4 Man 2\n",
      "5 Man 2\n",
      "6 Glc2NAc 2\n",
      "7 Glc2NAc 2\n",
      "8 Gal 1\n",
      "9 Gal 2\n",
      "10 Neu5Ac 1\n"
     ]
    }
   ],
   "source": [
    "from itertools import filterfalse\n",
    "\n",
    "def is_fuc(node):\n",
    "    node_comp = glypy.glycan_composition.MonosaccharideResidue.from_monosaccharide(node)\n",
    "    return node_comp.residue_name() == \"Fuc\"\n",
    "\n",
    "bft_no_fuc = filterfalse(is_fuc, glycan.breadth_first_traversal())\n",
    "\n",
    "for i, node in enumerate(bft_no_fuc):\n",
    "    node_comp = glypy.glycan_composition.MonosaccharideResidue.from_monosaccharide(node)\n",
    "    print(i, node_comp.name(), len(node.links))"
   ],
   "metadata": {
    "collapsed": false,
    "ExecuteTime": {
     "end_time": "2023-05-25T14:41:14.408039Z",
     "start_time": "2023-05-25T14:41:14.399971Z"
    }
   }
  },
  {
   "cell_type": "code",
   "execution_count": 53,
   "outputs": [],
   "source": [
    "core_glycoct = \"\"\"RES\n",
    "1b:x-dglc-HEX-1:5\n",
    "2b:x-dglc-HEX-1:5\n",
    "3b:x-dman-HEX-1:5\n",
    "4b:x-dman-HEX-1:5\n",
    "5b:x-dman-HEX-1:5\n",
    "6s:n-acetyl\n",
    "7s:n-acetyl\n",
    "LIN\n",
    "1:1o(-1+1)2d\n",
    "2:2o(-1+1)3d\n",
    "3:3o(-1+1)4d\n",
    "4:3o(-1+1)5d\n",
    "5:2d(2+1)6n\n",
    "6:1d(2+1)7n\n",
    "\"\"\"\n",
    "\n",
    "core_glycan = glypy.io.glycoct.loads(core_glycoct)"
   ],
   "metadata": {
    "collapsed": false,
    "ExecuteTime": {
     "end_time": "2023-05-25T14:02:04.809598Z",
     "start_time": "2023-05-25T14:02:04.785629Z"
    }
   }
  },
  {
   "cell_type": "code",
   "execution_count": 54,
   "outputs": [],
   "source": [
    "core_comp = glypy.structure.glycan_composition.GlycanComposition.from_glycan(core_glycan)"
   ],
   "metadata": {
    "collapsed": false,
    "ExecuteTime": {
     "end_time": "2023-05-25T14:02:27.889658Z",
     "start_time": "2023-05-25T14:02:27.860552Z"
    }
   }
  },
  {
   "cell_type": "code",
   "execution_count": 55,
   "outputs": [
    {
     "data": {
      "text/plain": "{MonosaccharideResidue(Glc2NAc): 2, MonosaccharideResidue(Man): 3}"
     },
     "execution_count": 55,
     "metadata": {},
     "output_type": "execute_result"
    }
   ],
   "source": [
    "core_comp"
   ],
   "metadata": {
    "collapsed": false,
    "ExecuteTime": {
     "end_time": "2023-05-25T14:02:30.100232Z",
     "start_time": "2023-05-25T14:02:30.078143Z"
    }
   }
  },
  {
   "cell_type": "code",
   "execution_count": 61,
   "outputs": [
    {
     "data": {
      "text/plain": "True"
     },
     "execution_count": 61,
     "metadata": {},
     "output_type": "execute_result"
    }
   ],
   "source": [
    "core_comp == glypy.glycan_composition.GlycanComposition.parse(\"{Man:3; Glc2NAc:2}\")"
   ],
   "metadata": {
    "collapsed": false,
    "ExecuteTime": {
     "end_time": "2023-05-25T14:03:23.101667Z",
     "start_time": "2023-05-25T14:03:23.094478Z"
    }
   }
  },
  {
   "cell_type": "code",
   "execution_count": 65,
   "outputs": [],
   "source": [
    "Man = glypy.glycan_composition.MonosaccharideResidue.from_iupac_lite(\"Man\")"
   ],
   "metadata": {
    "collapsed": false,
    "ExecuteTime": {
     "end_time": "2023-05-25T14:10:55.872587Z",
     "start_time": "2023-05-25T14:10:55.857125Z"
    }
   }
  },
  {
   "cell_type": "code",
   "execution_count": 66,
   "outputs": [
    {
     "data": {
      "text/plain": "3"
     },
     "execution_count": 66,
     "metadata": {},
     "output_type": "execute_result"
    }
   ],
   "source": [
    "core_comp[Man]"
   ],
   "metadata": {
    "collapsed": false,
    "ExecuteTime": {
     "end_time": "2023-05-25T14:11:01.949502Z",
     "start_time": "2023-05-25T14:11:01.924321Z"
    }
   }
  },
  {
   "cell_type": "code",
   "execution_count": 67,
   "outputs": [],
   "source": [
    "bft_iter = core_glycan.breadth_first_traversal()\n",
    "for i in range(3):\n",
    "    next(bft_iter)\n",
    "node1 = next(bft_iter)\n",
    "node2 = next(bft_iter)"
   ],
   "metadata": {
    "collapsed": false,
    "ExecuteTime": {
     "end_time": "2023-05-25T14:29:59.131552Z",
     "start_time": "2023-05-25T14:29:59.103826Z"
    }
   }
  },
  {
   "cell_type": "code",
   "execution_count": 70,
   "outputs": [
    {
     "data": {
      "text/plain": "[1]\n{\n    \"1\": [\n        \"(5)o(-1+1)d(7)[x]\"\n    ]\n}"
     },
     "execution_count": 70,
     "metadata": {},
     "output_type": "execute_result"
    }
   ],
   "source": [
    "node1.links"
   ],
   "metadata": {
    "collapsed": false,
    "ExecuteTime": {
     "end_time": "2023-05-25T14:30:23.375348Z",
     "start_time": "2023-05-25T14:30:23.372519Z"
    }
   }
  },
  {
   "cell_type": "code",
   "execution_count": 97,
   "outputs": [],
   "source": [
    "monoantenary_glycoct = \"\"\"RES\n",
    "1b:x-dglc-HEX-1:5\n",
    "2b:x-dglc-HEX-1:5\n",
    "3b:x-dman-HEX-1:5\n",
    "4b:x-dman-HEX-1:5\n",
    "5b:x-dman-HEX-1:5\n",
    "6b:x-dglc-HEX-1:5\n",
    "7b:x-dgal-HEX-1:5\n",
    "8b:x-dgro-dgal-NON-2:6|1:a|2:keto|3:d\n",
    "9s:n-acetyl\n",
    "10s:n-acetyl\n",
    "11s:n-acetyl\n",
    "12s:n-acetyl\n",
    "LIN\n",
    "1:1o(-1+1)2d\n",
    "2:2o(-1+1)3d\n",
    "3:3o(-1+1)4d\n",
    "4:3o(-1+1)5d\n",
    "5:5o(-1+1)6d\n",
    "6:6o(-1+1)7d\n",
    "7:7o(-1+2)8d\n",
    "8:8d(5+1)9n\n",
    "9:6d(2+1)10n\n",
    "10:2d(2+1)11n\n",
    "11:1d(2+1)12n\n",
    "\"\"\"\n",
    "monoantenary_glycan = glypy.io.glycoct.loads(monoantenary_glycoct)"
   ],
   "metadata": {
    "collapsed": false,
    "ExecuteTime": {
     "end_time": "2023-05-26T05:03:53.839538Z",
     "start_time": "2023-05-26T05:03:53.835597Z"
    }
   }
  },
  {
   "cell_type": "code",
   "execution_count": 98,
   "outputs": [],
   "source": [
    "bft_iter = monoantenary_glycan.breadth_first_traversal()\n",
    "for i in range(3):\n",
    "    next(bft_iter)\n",
    "node1 = next(bft_iter)\n",
    "node2 = next(bft_iter)"
   ],
   "metadata": {
    "collapsed": false,
    "ExecuteTime": {
     "end_time": "2023-05-26T05:04:01.562093Z",
     "start_time": "2023-05-26T05:04:01.556925Z"
    }
   }
  },
  {
   "cell_type": "code",
   "execution_count": 99,
   "outputs": [
    {
     "data": {
      "text/plain": "RES 1b:x-dman-HEX-1:5"
     },
     "execution_count": 99,
     "metadata": {},
     "output_type": "execute_result"
    }
   ],
   "source": [
    "node1"
   ],
   "metadata": {
    "collapsed": false,
    "ExecuteTime": {
     "end_time": "2023-05-26T05:04:05.971912Z",
     "start_time": "2023-05-26T05:04:05.965813Z"
    }
   }
  },
  {
   "cell_type": "code",
   "execution_count": 100,
   "outputs": [
    {
     "data": {
      "text/plain": "RES 1b:x-dman-HEX-1:5"
     },
     "execution_count": 100,
     "metadata": {},
     "output_type": "execute_result"
    }
   ],
   "source": [
    "node2"
   ],
   "metadata": {
    "collapsed": false,
    "ExecuteTime": {
     "end_time": "2023-05-26T05:04:06.265302Z",
     "start_time": "2023-05-26T05:04:06.260799Z"
    }
   }
  },
  {
   "cell_type": "code",
   "execution_count": 101,
   "outputs": [
    {
     "data": {
      "text/plain": "1"
     },
     "execution_count": 101,
     "metadata": {},
     "output_type": "execute_result"
    }
   ],
   "source": [
    "len(node1.links)"
   ],
   "metadata": {
    "collapsed": false,
    "ExecuteTime": {
     "end_time": "2023-05-26T05:04:08.504270Z",
     "start_time": "2023-05-26T05:04:08.484503Z"
    }
   }
  },
  {
   "cell_type": "code",
   "execution_count": 102,
   "outputs": [
    {
     "data": {
      "text/plain": "2"
     },
     "execution_count": 102,
     "metadata": {},
     "output_type": "execute_result"
    }
   ],
   "source": [
    "len(node2.links)"
   ],
   "metadata": {
    "collapsed": false,
    "ExecuteTime": {
     "end_time": "2023-05-26T05:04:08.948651Z",
     "start_time": "2023-05-26T05:04:08.924916Z"
    }
   }
  },
  {
   "cell_type": "code",
   "execution_count": 103,
   "outputs": [],
   "source": [
    "bisecting_glycoct = \"\"\"RES\n",
    "1b:x-dglc-HEX-1:5\n",
    "2b:x-lgal-HEX-1:5|6:d\n",
    "3b:x-dglc-HEX-1:5\n",
    "4b:x-dman-HEX-1:5\n",
    "5b:x-dglc-HEX-1:5\n",
    "6s:n-acetyl\n",
    "7b:x-dman-HEX-1:5\n",
    "8b:x-dglc-HEX-1:5\n",
    "9b:x-dgal-HEX-1:5\n",
    "10s:n-acetyl\n",
    "11b:x-dman-HEX-1:5\n",
    "12b:x-dglc-HEX-1:5\n",
    "13b:x-dgal-HEX-1:5\n",
    "14b:x-dgro-dgal-NON-2:6|1:a|2:keto|3:d\n",
    "15s:n-acetyl\n",
    "16s:n-acetyl\n",
    "17s:n-acetyl\n",
    "18s:n-acetyl\n",
    "LIN\n",
    "1:1o(-1+1)2d\n",
    "2:1o(-1+1)3d\n",
    "3:3o(-1+1)4d\n",
    "4:4o(-1+1)5d\n",
    "5:5d(2+1)6n\n",
    "6:4o(-1+1)7d\n",
    "7:7o(-1+1)8d\n",
    "8:8o(-1+1)9d\n",
    "9:8d(2+1)10n\n",
    "10:4o(-1+1)11d\n",
    "11:11o(-1+1)12d\n",
    "12:12o(-1+1)13d\n",
    "13:13o(-1+2)14d\n",
    "14:14d(5+1)15n\n",
    "15:12d(2+1)16n\n",
    "16:3d(2+1)17n\n",
    "17:1d(2+1)18n\n",
    "\"\"\"\n",
    "bisecting_glycan = glypy.io.glycoct.loads(bisecting_glycoct)"
   ],
   "metadata": {
    "collapsed": false,
    "ExecuteTime": {
     "end_time": "2023-05-26T05:44:10.712257Z",
     "start_time": "2023-05-26T05:44:10.695520Z"
    }
   }
  },
  {
   "cell_type": "code",
   "execution_count": null,
   "outputs": [],
   "source": [],
   "metadata": {
    "collapsed": false
   }
  }
 ],
 "metadata": {
  "kernelspec": {
   "display_name": "Python 3",
   "language": "python",
   "name": "python3"
  },
  "language_info": {
   "codemirror_mode": {
    "name": "ipython",
    "version": 2
   },
   "file_extension": ".py",
   "mimetype": "text/x-python",
   "name": "python",
   "nbconvert_exporter": "python",
   "pygments_lexer": "ipython2",
   "version": "2.7.6"
  }
 },
 "nbformat": 4,
 "nbformat_minor": 0
}
